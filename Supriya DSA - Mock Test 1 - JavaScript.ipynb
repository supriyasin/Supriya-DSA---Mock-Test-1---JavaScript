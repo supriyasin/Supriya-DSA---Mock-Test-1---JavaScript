{
 "cells": [
  {
   "cell_type": "code",
   "execution_count": 1,
   "id": "987c2735",
   "metadata": {},
   "outputs": [
    {
     "name": "stdout",
     "output_type": "stream",
     "text": [
      "[1, 3, 12, 0, 0]\n"
     ]
    }
   ],
   "source": [
    "#Move Zeroes\n",
    "\n",
    "Given an integer array nums, move all 0's to the end of it while maintaining the relative order of the non-zero elements.\n",
    "\n",
    "Note that you must do this in-place without making a copy of the array.\n",
    "\n",
    "Example 1:\n",
    "Input: nums = [0,1,0,3,12]\n",
    "Output: [1,3,12,0,0]\n",
    "\n",
    "Example 2:\n",
    "Input: nums = [0]\n",
    "Output: [0]\n",
    "\n",
    "Constraints:\n",
    "a. 1 <= nums.length <= 10^4\n",
    "b. -2^31 <= nums[i] <= 2^31 - 1\n",
    "\n",
    "Note: Create a GitHub file for the solution and add the file link the the answer section below.\n",
    "    \n",
    "#Here is the solution to the \"Move Zeroes\" problem in Python:    \n",
    "\n",
    "def moveZeroes(nums):\n",
    "    \"\"\"\n",
    "    Moves all zeros to the end of the given integer array while maintaining the relative order of non-zero elements.\n",
    "    \"\"\"\n",
    "    # Initialize a pointer to keep track of the position to insert the next non-zero element\n",
    "    insert_pos = 0\n",
    "\n",
    "    # Iterate through the array\n",
    "    for num in nums:\n",
    "        if num != 0:\n",
    "            # If the current element is non-zero, move it to the insert position and increment the insert position\n",
    "            nums[insert_pos] = num\n",
    "            insert_pos += 1\n",
    "\n",
    "    # Fill the remaining positions with zeroes\n",
    "    while insert_pos < len(nums):\n",
    "        nums[insert_pos] = 0\n",
    "        insert_pos += 1\n",
    "\n",
    "# Test the function\n",
    "nums = [0, 1, 0, 3, 12]\n",
    "moveZeroes(nums)\n",
    "print(nums)  # Output: [1, 3, 12, 0, 0]\n"
   ]
  },
  {
   "cell_type": "code",
   "execution_count": null,
   "id": "e631ed34",
   "metadata": {},
   "outputs": [],
   "source": []
  }
 ],
 "metadata": {
  "kernelspec": {
   "display_name": "Python 3 (ipykernel)",
   "language": "python",
   "name": "python3"
  },
  "language_info": {
   "codemirror_mode": {
    "name": "ipython",
    "version": 3
   },
   "file_extension": ".py",
   "mimetype": "text/x-python",
   "name": "python",
   "nbconvert_exporter": "python",
   "pygments_lexer": "ipython3",
   "version": "3.9.12"
  }
 },
 "nbformat": 4,
 "nbformat_minor": 5
}
